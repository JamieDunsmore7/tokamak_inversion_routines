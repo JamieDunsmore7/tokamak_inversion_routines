{
 "cells": [
  {
   "cell_type": "code",
   "execution_count": 1,
   "id": "4ea98005",
   "metadata": {},
   "outputs": [],
   "source": [
    "import numpy as np\n",
    "import MDSplus as mds\n",
    "from  scipy.linalg import eigh, solve_banded"
   ]
  },
  {
   "cell_type": "code",
   "execution_count": 2,
   "id": "53231c4c",
   "metadata": {},
   "outputs": [],
   "source": [
    "import matplotlib.pyplot as plt"
   ]
  },
  {
   "cell_type": "code",
   "execution_count": 3,
   "id": "f0dc5457",
   "metadata": {},
   "outputs": [],
   "source": [
    "%matplotlib widget"
   ]
  },
  {
   "cell_type": "code",
   "execution_count": 4,
   "id": "6af4a04f",
   "metadata": {},
   "outputs": [],
   "source": [
    "r_end = 0.93\n",
    "sys_err = 5"
   ]
  },
  {
   "cell_type": "code",
   "execution_count": 5,
   "id": "8393788b",
   "metadata": {},
   "outputs": [
    {
     "name": "stdout",
     "output_type": "stream",
     "text": [
      "end of load_geometry\n"
     ]
    }
   ],
   "source": [
    "### load the data\n",
    "bright = np.loadtxt('/home/sthoma/inversion-tools/Example/shot_1070511010_brightness_data.txt')\n",
    "### say which channels are good based off zeros\n",
    "good_chans = np.where(bright[0] != 0)[0]\n",
    "### load R\n",
    "R = np.loadtxt('/home/sthoma/inversion-tools/Example/shot_1070511010_R_values.txt')\n",
    "lfs_r = R[good_chans]\n",
    "### flip R\n",
    "lfs_r = np.flip(lfs_r)\n",
    "\n",
    "### adds some higher R value\n",
    "if r_end:\n",
    "    lfs_r = np.insert(lfs_r,len(lfs_r),r_end)\n",
    "### number of R values\n",
    "nch_lfs = len(lfs_r)\n",
    "\n",
    "### this is for calibration! and for the error on the calibration. \n",
    "calf = np.ones(lfs_r.shape)\n",
    "calfErr = np.ones(lfs_r.shape)*sys_err/100\n",
    "\n",
    "### creating the response matrix\n",
    "R_tg_virtual = lfs_r\n",
    "#center of mass of the LOS, assume z=0\n",
    "R_tg = R_tg_virtual\n",
    "Z_tg = np.zeros_like(R_tg) \n",
    "### upper and lower R values\n",
    "lfs_min = R_tg[0]\n",
    "lfs_max = R_tg[-1]\n",
    "### gives resolution of emissivity grid, and makes Rgrid\n",
    "nr = 50 \n",
    "R_grid = np.linspace(lfs_min, lfs_max, nr)\n",
    "\n",
    "### returns a 2D array with dimensions of the grid and the original viewing\n",
    "### locations. It's the different between the R location of the two.\n",
    "### if any of them it is negative, it replaces it with a zero\n",
    "### then it does it again but with only 1 space difference, and then it does\n",
    "### the difference between them and multiplies it by 2?\n",
    "dL = 2*(np.sqrt(np.maximum((R_grid[1:])**2-R_tg_virtual[:,None]**2,0))\n",
    "       -np.sqrt(np.maximum( R_grid[:-1]**2-R_tg_virtual[:,None]**2,0)))\n",
    "# dL = dL # no need to sum over spot size\n",
    "print('end of load_geometry')"
   ]
  },
  {
   "cell_type": "code",
   "execution_count": 6,
   "id": "1b15440e",
   "metadata": {
    "scrolled": true
   },
   "outputs": [],
   "source": [
    "# plt.figure(figsize=(3.35,2.5), dpi=150)\n",
    "# plt.plot(R)\n",
    "# plt.figure(figsize=(3.35,2.5), dpi=150)\n",
    "# plt.plot(lfs_r)\n",
    "# plt.figure(figsize=(3.35,2.5), dpi=150)\n",
    "# plt.plot(R_tg_virtual)\n",
    "# plt.figure(figsize=(3.35,2.5), dpi=150)\n",
    "# plt.plot(R_tg)\n",
    "# plt.figure(figsize=(3.35,2.5), dpi=150)\n",
    "# plt.plot(Z_tg)\n",
    "# plt.figure(figsize=(3.35,2.5), dpi=150)\n",
    "# plt.plot(R_grid)\n",
    "# plt.figure(figsize=(3.35,2.5), dpi=150)\n",
    "# plt.plot(dL)"
   ]
  },
  {
   "cell_type": "code",
   "execution_count": 7,
   "id": "06809185",
   "metadata": {
    "scrolled": true
   },
   "outputs": [],
   "source": [
    "#### load the data, good channels only, and flip it to match the flipped R\n",
    "raw_data = np.loadtxt('/home/sthoma/inversion-tools/Example/shot_1070511010_brightness_data.txt')\n",
    "raw_data = raw_data[:,good_chans]\n",
    "raw_data = np.flip(raw_data, axis=1)\n",
    "### add a zero at desired r_end value\n",
    "if r_end:\n",
    "    _zeros = np.zeros(len(raw_data[:,0]))[:,None]\n",
    "    raw_data = np.concatenate((raw_data,_zeros),axis=1)\n",
    "### number of views\n",
    "n_los = len(raw_data[0])\n",
    "### load the time \n",
    "tvec = np.loadtxt('/home/sthoma/inversion-tools/Example/shot_1070511010_t_values.txt')\n",
    "\n",
    "\n",
    "### assume the first index is last good one\n",
    "last_good_ind = 0\n",
    "count = 0\n",
    "### iterate over the time\n",
    "for tt in range(len(tvec)):\n",
    "    ### always select the highest R value that isn't one we appended \n",
    "    min_data = raw_data[tt,-2] # because there's a 0 by default at the end\n",
    "    ### if this point is positive, make this the last good time index\n",
    "    if min_data >= 0:\n",
    "        last_good_ind = tt\n",
    "#         print('tt={}, >0, last_good_ind={}, '.format(tt, last_good_ind))\n",
    "\n",
    "    ### if this point is negative, I want to add on the maximum value from the \n",
    "    ### last good time index to all the points in this current one?\n",
    "    \n",
    "    ### I don't really understand why though\n",
    "    \n",
    "    elif min_data < 0:\n",
    "        count += 1\n",
    "#         plt.figure()\n",
    "#         plt.plot(lfs_r, raw_data[tt])\n",
    "        raw_data[tt,:-1] += np.max(raw_data[last_good_ind])\n",
    "#         print('tt={}, <0, adding {}'.format(tt, np.max(raw_data[last_good_ind])))\n",
    "#         plt.plot(lfs_r, raw_data[tt], '--')\n",
    "#         plt.title('tt={}, count={}'.format(tt, count))\n",
    "#         plt.grid()"
   ]
  },
  {
   "cell_type": "code",
   "execution_count": 8,
   "id": "3b3afe00",
   "metadata": {},
   "outputs": [
    {
     "name": "stdout",
     "output_type": "stream",
     "text": [
      "end of load_data\n"
     ]
    }
   ],
   "source": [
    "### the index slice that goes before t=0\n",
    "offset = slice(0, tvec.searchsorted(0))\n",
    "### sampling time\n",
    "dt = (tvec[-1]-tvec[0])/(len(tvec)-1)\n",
    "### smooth is not done here, hence = 1\n",
    "n_smooth = 1\n",
    "### data shapes\n",
    "nt, nch = raw_data.shape\n",
    "### copy of the data and time\n",
    "data_low = raw_data\n",
    "tvec_low = tvec\n",
    "### adjust nt if need be\n",
    "nt = nt//n_smooth*n_smooth\n",
    "### I don't really know what this is doing\n",
    "tvec_low = tvec[:nt].reshape(-1,n_smooth).mean(1)\n",
    "### nor do I know what this is really doing,\n",
    "### but it is removing an offset\n",
    "data_low = raw_data[:nt].reshape(-1,n_smooth, nch).mean(1)-raw_data[offset].mean(0)\n",
    "\n",
    "### these three aren't used\n",
    "# error_low1 = np.zeros_like(data_low)\n",
    "# error_low2 = np.std(data_low[tvec_low<0],0)\n",
    "# error_low21 = np.std(data_low[tvec_low<0],0)[None,:]\n",
    "### estimate noise from the signal before the plasma\n",
    "error_low = np.zeros_like(data_low)+np.std(data_low[tvec_low<0],0)[None,:]/3\n",
    "\n",
    "\n",
    "### guess errorbarss from the variation between neighboring channels\n",
    "ind1 = np.r_[1,0:n_los-1]\n",
    "ind2 = np.r_[  1:n_los  ,n_los-2]\n",
    "# the ind1 and ind2, basically shift data_low up and down by one to find the average\n",
    "# value of the neighboring channels. That is then subtracting from the original array\n",
    "# to get the average difference from neighboring hcannels\n",
    "\n",
    "# the difference between the followin neighbor is calculated and then the standard error\n",
    "# is calculated for each channel\n",
    "error_low += np.std(np.diff(data_low-(data_low[:,ind1]+data_low[:,ind2])/2,axis=0),axis=0)/np.sqrt(2)\n",
    "\n",
    "# remove offset estimated from the edge most detector\n",
    "offset_time = data_low[:,[-1]]\n",
    "data_low -= offset_time\n",
    "# make sure that zero value is within errorbars when data are negative\n",
    "error_low = np.maximum(error_low, -data_low)\n",
    "\n",
    "### this converts the data to the calibrated data\n",
    "data = data_low * calf#[ph/m^2s]\n",
    "err  = np.sqrt(\\\n",
    "            (error_low*calf)**2+\\\n",
    "            (data_low*calfErr)**2\n",
    "           ) #[ph/m^2s] # laggnerf\n",
    "tvec = tvec_low #[s]\n",
    "scale = np.median(data) #just a normalisation to aviod calculation with so huge exponents\n",
    "\n",
    "nt = len(tvec)\n",
    "print('end of load_data')"
   ]
  },
  {
   "cell_type": "code",
   "execution_count": 9,
   "id": "aa0591e8",
   "metadata": {},
   "outputs": [],
   "source": [
    "n_blocks = len(tvec)"
   ]
  },
  {
   "cell_type": "code",
   "execution_count": 10,
   "id": "db02dd86",
   "metadata": {},
   "outputs": [],
   "source": [
    "### no idea what these are, they're just there\n",
    "\n",
    "# defined independently for LFS and HFS\n",
    "reg_level_guess = .7, .6\n",
    "reg_level_min = .4, .4\n",
    "\n",
    "nfisher = 4\n",
    "\n",
    "iside = 0\n",
    "lfs_contribution = [0]"
   ]
  },
  {
   "cell_type": "code",
   "execution_count": 11,
   "id": "1c81656f",
   "metadata": {},
   "outputs": [],
   "source": [
    "### biased_edges is used as True\n",
    "def regul_matrix(biased_edges=True):\n",
    "    #regularization band matrix\n",
    "    bias = .1 if biased_edges else 1e-5\n",
    "    ### (3 x R_grid-1), all 1s\n",
    "    D = np.ones((3,nr-1))\n",
    "    ### make row 1 all negative 2s\n",
    "    D[1,:] *= -2\n",
    "    ### last in middle row is bias value\n",
    "    D[1,-1] = bias\n",
    "    ### middle row, first element and second last element are negative 1s\n",
    "    D[1,[0,nr-3]] = -1\n",
    "    ### last row, elements -2 and -3 are set to zero\n",
    "    D[2,[-2,-3]] = 0\n",
    "    return D"
   ]
  },
  {
   "cell_type": "code",
   "execution_count": 12,
   "id": "a3f0eeea",
   "metadata": {},
   "outputs": [],
   "source": [
    "def GCV(g, prod, S, U):\n",
    "    #generalized crossvalidation\n",
    "    w = 1. / (1. + np.exp(g) / S**2)\n",
    "    ndets = len(prod)\n",
    "    return (np.sum((((w - 1) * prod))**2) + 1) / ndets / (1 - np.mean(w))**2"
   ]
  },
  {
   "cell_type": "code",
   "execution_count": 13,
   "id": "84957d93",
   "metadata": {},
   "outputs": [],
   "source": [
    "def FindMin(F, x0, dx0, prod, S, U, tol=0.01):\n",
    "    #stupid but robust minimum searching algorithm.\n",
    "    fg = F(x0, prod, S, U)\n",
    "    while abs(dx0) > tol:\n",
    "        fg2 = F(x0 + dx0, prod, S, U)\n",
    "        if fg2 < fg:\n",
    "            fg = fg2\n",
    "            x0 += dx0\n",
    "            continue\n",
    "        else:\n",
    "            dx0 /= -2.\n",
    "\n",
    "    return x0, np.log(fg2)"
   ]
  },
  {
   "cell_type": "code",
   "execution_count": 14,
   "id": "0ec7446b",
   "metadata": {},
   "outputs": [
    {
     "name": "stdout",
     "output_type": "stream",
     "text": [
      "(547, 49)\n"
     ]
    }
   ],
   "source": [
    "D = regul_matrix(biased_edges=True)\n",
    "### a bunch of empty arrays\n",
    "### len(time) x len(R_grid)-1\n",
    "y = np.zeros((nt, nr-1))\n",
    "print(y.shape)\n",
    "y_err = np.zeros((nt, nr-1))\n",
    "\n",
    "### len(time)\n",
    "chi2lfs = np.zeros(nt)\n",
    "gamma_lfs = np.zeros(nt)\n",
    "\n",
    "### shape of data\n",
    "backprojection = np.zeros_like(data)\n",
    "\n",
    "### indices for time\n",
    "itime = np.arange(nt)\n",
    "### splits the time indices up into the number of blocks\n",
    "### but it is normally just length of time for n_blocks\n",
    "tinds = np.array_split(itime, n_blocks)\n",
    "\n",
    "for ib, tind in enumerate(tinds):\n",
    "#     print('ib={}, tind={}'.format(ib,tind))\n",
    "    ### where the mean of the error, and the error, are zero\n",
    "    ### averaging across time\n",
    "    mean_err_zero_inds = np.where(err[tind].mean(0) == 0)\n",
    "    err_zero_inds = np.where(err[tind] == 0)\n",
    "    \n",
    "    ### no idea what T is, it's this dL thing divided by error\n",
    "    ### and then multiplied by scale\n",
    "    T = dL / err[tind].mean(0)[:,None] * scale\n",
    "    ### mean of the data in this time divided by the mean of the error\n",
    "    mean_d = data[tind].mean(0) / err[tind].mean(0)\n",
    "    ### data divided by error\n",
    "    d = data[tind] / err[tind]\n",
    "    \n",
    "    ### replace infinities and nans with 0\n",
    "    T[mean_err_zero_inds] = 0\n",
    "    mean_d[mean_err_zero_inds] = 0\n",
    "    d[err_zero_inds] = 0\n",
    "    \n",
    "    ### load of ones for now\n",
    "    W = np.ones(nr-1)\n",
    "    ### some slices, zero uptp # channels, and the # R_grid\n",
    "    ind_los = slice(0,nch_lfs)\n",
    "    ind_space = slice(0,nr-1)\n",
    "    \n",
    "    ### makes Q the same length as the ind_los slice\n",
    "    Q = np.linspace(0, 1, ind_los.stop - ind_los.start)\n",
    "    \n",
    "    \n",
    "    \n",
    "    for ifisher in range(nfisher):\n",
    "#         print('ifisher={}'.format(ifisher))\n",
    "        \n",
    "        ### multiply tridiagonal regularisation operator by a diagonal weight matrix W\n",
    "        WD = np.copy(D)\n",
    "\n",
    "        ### seems redundent, as W is all ones\n",
    "        WD[0,1:]*=W[:-1]\n",
    "        WD[1]*=W\n",
    "        WD[2,:-1]*=W[1:]\n",
    "        \n",
    "        ### transpose the band matrix\n",
    "        DTW = np.copy(WD)\n",
    "        DTW[0,1:],DTW[2,:-1] = WD[2,:-1],WD[0,1:]\n",
    "        \n",
    "        \n",
    "        #####    solve Tikhonov regularization (optimised for speed)\n",
    "        ### this is from scipy, and is solving a banded matrix?\n",
    "        H = solve_banded((1,1), DTW, T[ind_los,ind_space].T, overwrite_ab=True, check_finite=False)\n",
    "        #fast method to calculate U,S,V = svd(H.T) of rectangular matrix\n",
    "        LL = np.dot(H.T, H)\n",
    "        #### also from scipy\n",
    "        S2, U = eigh(LL, overwrite_a=True, check_finite=False, lower=True)\n",
    "        S2 = np.maximum(S2, 1) #singular values S can be negative due to numerical uncertainty\n",
    "        \n",
    "        mean_p = np.dot(mean_d[ind_los] - np.mean(lfs_contribution, 0), U)\n",
    "        \n",
    "        #guess for regularisation - estimate quantile of log(S^2)\n",
    "        g0 = np.interp(reg_level_guess[iside], Q, np.log(S2))\n",
    "        \n",
    "        if ifisher == nfisher -1:\n",
    "            #last step - find optimal regularisation\n",
    "            S = np.sqrt(S2)\n",
    "\n",
    "            g0, log_fg2 = FindMin(GCV, g0 , 1, mean_p, S, U.T) #slowest step\n",
    "            #avoid too small regularisation when min of GCV is not found\n",
    "\n",
    "            gmin = np.interp(reg_level_min[iside], Q, np.log(S2))\n",
    "            g0 = max(g0, gmin)\n",
    "\n",
    "            #filtering factor\n",
    "            w = 1. / (1. + np.exp(g0) / S2)\n",
    "\n",
    "            V = np.dot(H, U / S)\n",
    "            V = solve_banded((1,1), WD, V, overwrite_ab=True, overwrite_b=True, check_finite=False)\n",
    "        else:\n",
    "            #filtering factor\n",
    "            w = 1. / (1. + np.exp(g0) / S2)\n",
    "\n",
    "            #calculate y without evaluating V explicitly\n",
    "            Y = np.dot(H, np.dot(U / S2, w * mean_p))\n",
    "            #final inversion of mean solution , reconstruction\n",
    "            Y = solve_banded((1,1), WD, Y, overwrite_ab=True, overwrite_b=True, check_finite=False)\n",
    "\n",
    "            #weight matrix for the next iteration\n",
    "            W = 1 / np.maximum(Y, 1e-10)**.5\n",
    "            \n",
    "    p = np.dot(d[:,ind_los] - lfs_contribution, U)\n",
    "    Y = np.dot((w/S) * p, V.T)\n",
    "\n",
    "    backprojection[tind,ind_los] = fit = np.dot(p*w, U.T) + lfs_contribution\n",
    "    chi2 = np.sum((d[:,ind_los] - fit)**2, 1) / np.size(fit, 1)\n",
    "    gamma = np.interp(g0, np.log(S2), Q)\n",
    "\n",
    "    chi2lfs[tind] = chi2\n",
    "    gamma_lfs[tind] = gamma\n",
    "\n",
    "    y[tind,ind_space] = Y\n",
    "    #correction for under/over estimated data uncertainty\n",
    "    y_err[tind,ind_space] = np.sqrt(np.dot(V**2, (w / S)**2))#*chi2[:,None])\n",
    "    \n",
    "backprojection[tind] *= err[tind].mean(0)\n",
    "\n",
    "y *= scale\n",
    "y_err *= scale\n",
    "\n",
    "R_grid_b = (R_grid[1:]+ R_grid[:-1])/2"
   ]
  },
  {
   "cell_type": "code",
   "execution_count": 26,
   "id": "81bc3782",
   "metadata": {
    "scrolled": false
   },
   "outputs": [
    {
     "data": {
      "text/plain": [
       "[<matplotlib.lines.Line2D at 0x7fbaac968c40>]"
      ]
     },
     "execution_count": 26,
     "metadata": {},
     "output_type": "execute_result"
    },
    {
     "data": {
      "application/vnd.jupyter.widget-view+json": {
       "model_id": "2d1fbfd965644edfad7f16eaf33cbb97",
       "version_major": 2,
       "version_minor": 0
      },
      "image/png": "[encoded data removed]",
      "text/html": [
       "\n",
       "            <div style=\"display: inline-block;\">\n",
       "                <div class=\"jupyter-widgets widget-label\" style=\"text-align: center;\">\n",
       "                    Figure\n",
       "                </div>\n",
       "                <img src='data:image/png;base64,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' width=640.0/>\n",
       "            </div>\n",
       "        "
      ],
      "text/plain": [
       "Canvas(toolbar=Toolbar(toolitems=[('Home', 'Reset original view', 'home', 'home'), ('Back', 'Back to previous …"
      ]
     },
     "metadata": {},
     "output_type": "display_data"
    }
   ],
   "source": [
    "plt.figure()\n",
    "plt.errorbar(R_grid_b, y[300], yerr=y_err[300], fmt='-', c='C0', capsize=4, zorder=1)\n",
    "plt.plot(R, bright[300], 'o', c='C1', mec='k')\n",
    "# plt.plot(R[good_chans][::-1], backprojection[300,:-1]/backprojection[300,:-1].max()*bright[300].max(), c='C2')"
   ]
  },
  {
   "cell_type": "code",
   "execution_count": null,
   "id": "5863d64d",
   "metadata": {},
   "outputs": [],
   "source": []
  }
 ],
 "metadata": {
  "kernelspec": {
   "display_name": "Python 3",
   "language": "python",
   "name": "python3"
  },
  "language_info": {
   "codemirror_mode": {
    "name": "ipython",
    "version": 3
   },
   "file_extension": ".py",
   "mimetype": "text/x-python",
   "name": "python",
   "nbconvert_exporter": "python",
   "pygments_lexer": "ipython3",
   "version": "3.9.13"
  }
 },
 "nbformat": 4,
 "nbformat_minor": 5
}
